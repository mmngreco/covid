{
 "cells": [
  {
   "cell_type": "markdown",
   "metadata": {},
   "source": [
    "# PCR Probabilities\n",
    "\n",
    "This plays with conditional probabilities around PCR tests.\n",
    "We are going to calculate the chance of select a random person who is\n",
    "infected of COVID.\n",
    "After that we need the false positive and negative rates of PCR tests.\n",
    "All data is based on Madrid.\n",
    "\n",
    "## Data source:\n",
    "- https://github.com/CSSEGISandData/COVID-19/tree/master/csse_covid_19_data#field-description\n",
    "- https://www.thelancet.com/journals/lanres/article/PIIS2213-2600(20)30453-7/fulltext"
   ]
  },
  {
   "cell_type": "code",
   "execution_count": 23,
   "metadata": {},
   "outputs": [],
   "source": [
    "import pandas as pd\n",
    "import re"
   ]
  },
  {
   "cell_type": "code",
   "execution_count": 24,
   "metadata": {},
   "outputs": [],
   "source": [
    "pd.options.display.max_colwidth = 120\n",
    "PTRN_EVENT = re.compile(\"P?\\(?\\s*([\\w']+)(\\s?\\|\\s?([\\w']+))?\\s*\\)?\")\n",
    "DECIMALS = 4"
   ]
  },
  {
   "cell_type": "code",
   "execution_count": 25,
   "metadata": {
    "lines_to_next_cell": 1
   },
   "outputs": [],
   "source": [
    "class P:\n",
    "    \"\"\"Probability\"\"\"\n",
    "\n",
    "    def __init__(self, name, value, decimals=DECIMALS):\n",
    "        self.decimals = decimals\n",
    "        if decimals is not None:\n",
    "            value = round(value, decimals)\n",
    "        self.value = value\n",
    "        main, _, base = re.search(PTRN_EVENT, name).groups()\n",
    "        self.name = self.get_name(main, base)\n",
    "        self.main = main\n",
    "        self.base = base\n",
    "\n",
    "    @classmethod\n",
    "    def get_name(cls, main, base=None):\n",
    "        if base is None:\n",
    "            s = f\"{main}\"\n",
    "        else:\n",
    "            s = f\"{main} | {base}\"\n",
    "\n",
    "        name = f\"P({s})\"\n",
    "        return name\n",
    "\n",
    "    def __repr__(self):\n",
    "        return f\"{self.name} = {self.value}\"\n",
    "\n",
    "    def __str__(self):\n",
    "        return f\"{self.name} = {self.value}\"\n",
    "\n",
    "    def c(self, name=None):\n",
    "        \"Calculates complemenatary\"\n",
    "        value = 1 - self.value\n",
    "\n",
    "        if name is not None:\n",
    "            return P(name, value, decimals=self.decimals)\n",
    "\n",
    "        not_str = \"'\"\n",
    "        if not_str in self.main:\n",
    "            not_event = self.main.replace(not_str, \"\")\n",
    "        else:\n",
    "            not_event = f\"{self.main}{not_str}\"\n",
    "\n",
    "        name = self.get_name(not_event, self.base)\n",
    "\n",
    "        return P(name, value, decimals=self.decimals)\n",
    "\n",
    "    def bayes(self, Pevent, Pbase):\n",
    "        \"\"\"Applies bayes rule.\n",
    "\n",
    "        Examples\n",
    "        --------\n",
    "        >>> p_ab = P(\"a | b\", value=.5)\n",
    "        >>> p_ba = p_ab.bayes(p_b, p_a)\n",
    "        \"\"\"\n",
    "        assert Pevent.main == self.main, \"Pevent unexpected\"\n",
    "        assert Pbase.main == self.base, \"Pbase unexpected\"\n",
    "\n",
    "        value = self.value * Pbase.value / Pevent.value\n",
    "        name = self.get_name(self.base, self.main)\n",
    "        return P(name, value, decimals=self.decimals)\n",
    "\n",
    "    @staticmethod\n",
    "    def Pmain(Pmain_base_list, Pbase_list):\n",
    "        \"\"\"Probability of main\"\"\"\n",
    "        value = 0\n",
    "        for Pmbi, Pbi in zip(Pmain_base_list, Pbase_list):\n",
    "            assert Pmbi.base == Pbi.main, \"Wrong combination\"\n",
    "            value += Pmbi.value * Pbi.value\n",
    "\n",
    "        return P(Pmbi.main, value)\n",
    "\n",
    "    def round(self, decimals):\n",
    "        self.value = round(self.value, decimals)\n",
    "        return self"
   ]
  },
  {
   "cell_type": "markdown",
   "metadata": {},
   "source": [
    "# Load data from github\n",
    "https://github.com/CSSEGISandData/COVID-19/tree/master/csse_covid_19_data#field-description"
   ]
  },
  {
   "cell_type": "code",
   "execution_count": 26,
   "metadata": {
    "lines_to_next_cell": 1
   },
   "outputs": [],
   "source": [
    "def load_data():\n",
    "    prefix = 'https://raw.githubusercontent.com/CSSEGISandData/COVID-19/master/'\n",
    "    path = 'csse_covid_19_data/csse_covid_19_daily_reports'\n",
    "    date = '10-31-2020'\n",
    "    url_fmt = '{prefix}/{path}/{date}.csv'\n",
    "    url = url_fmt.format(prefix=prefix, path=path, date=date)\n",
    "    desease_info = pd.read_csv(url)\n",
    "    return desease_info"
   ]
  },
  {
   "cell_type": "code",
   "execution_count": 27,
   "metadata": {},
   "outputs": [],
   "source": [
    "madrid = load_data().query(\"Province_State == 'Madrid'\")"
   ]
  },
  {
   "cell_type": "code",
   "execution_count": 28,
   "metadata": {},
   "outputs": [],
   "source": [
    "# Define variables\n",
    "incidence_rate = madrid.Incidence_Rate.item()"
   ]
  },
  {
   "cell_type": "code",
   "execution_count": 29,
   "metadata": {},
   "outputs": [],
   "source": [
    "prob_desease = P(\"D\", value=incidence_rate / 100_000)\n",
    "prob_no_desease = prob_desease.c()"
   ]
  },
  {
   "cell_type": "markdown",
   "metadata": {},
   "source": [
    "## PCR INFO\n",
    "> The current rate of operational false-positive swab tests in the UK is\n",
    "> unknown; preliminary estimates show it could be somewhere between 0·8% and\n",
    "> 4·0%\n",
    "\n",
    "Source : https://www.thelancet.com/journals/lanres/article/PIIS2213-2600(20)30453-7/fulltext"
   ]
  },
  {
   "cell_type": "code",
   "execution_count": 30,
   "metadata": {},
   "outputs": [],
   "source": [
    "# P(pos | D') =\n",
    "prob_positive_no_desease = P(\"pos | D'\", value=(0.8/100 + 4/100) / 2)\n",
    "prob_negative_no_desease = prob_positive_no_desease.c(\"neg | D'\")"
   ]
  },
  {
   "cell_type": "markdown",
   "metadata": {},
   "source": [
    "> Globally, most effort so far has been invested in turnaround times and\n",
    "> low test sensitivity (ie, false negatives); one systematic review reported\n",
    "> false-negative rates of between 2% and 33% in repeat sample testing.\n",
    "\n",
    "Source : https://www.thelancet.com/journals/lanres/article/PIIS2213-2600(20)30453-7/fulltext"
   ]
  },
  {
   "cell_type": "code",
   "execution_count": 31,
   "metadata": {},
   "outputs": [
    {
     "data": {
      "text/plain": [
       "P(neg | D) = 0.175"
      ]
     },
     "execution_count": 31,
     "metadata": {},
     "output_type": "execute_result"
    }
   ],
   "source": [
    "# P(neg | D) =\n",
    "prob_negative_desease = P(\"neg | D\", value=(2/100 + 33/100) / 2)\n",
    "prob_negative_desease"
   ]
  },
  {
   "cell_type": "code",
   "execution_count": 32,
   "metadata": {},
   "outputs": [
    {
     "data": {
      "text/plain": [
       "P(pos | D) = 0.825"
      ]
     },
     "execution_count": 32,
     "metadata": {},
     "output_type": "execute_result"
    }
   ],
   "source": [
    "# P(pos | D) =\n",
    "prob_positive_desease = prob_negative_desease.c(\"pos | D\")\n",
    "prob_positive_desease"
   ]
  },
  {
   "cell_type": "code",
   "execution_count": 33,
   "metadata": {},
   "outputs": [
    {
     "data": {
      "text/plain": [
       "P(neg) = 0.9391"
      ]
     },
     "execution_count": 33,
     "metadata": {},
     "output_type": "execute_result"
    }
   ],
   "source": [
    "# P(neg) = P(neg | D) * P(D) + P(neg | D') * P(D') =\n",
    "prob_neg = P.Pmain(\n",
    "    [prob_negative_desease, prob_negative_no_desease],\n",
    "    [prob_desease, prob_no_desease]\n",
    ")\n",
    "prob_neg"
   ]
  },
  {
   "cell_type": "markdown",
   "metadata": {},
   "source": [
    "## Conditional Probabilities"
   ]
  },
  {
   "cell_type": "markdown",
   "metadata": {},
   "source": [
    "We are going to calculate the probability of be infected when the\n",
    "result of pcr is negative."
   ]
  },
  {
   "cell_type": "code",
   "execution_count": 34,
   "metadata": {},
   "outputs": [
    {
     "data": {
      "text/plain": [
       "P(neg | D) = 0.175"
      ]
     },
     "execution_count": 34,
     "metadata": {},
     "output_type": "execute_result"
    }
   ],
   "source": [
    "# P(D | neg) = P(neg | D) * P(D) / P(neg) =\n",
    "prob_negative_desease.bayes(prob_negative, prob_desease)\n",
    "prob_negative_desease"
   ]
  },
  {
   "cell_type": "code",
   "execution_count": 35,
   "metadata": {},
   "outputs": [
    {
     "data": {
      "text/plain": [
       "P(pos) = 0.0609"
      ]
     },
     "execution_count": 35,
     "metadata": {},
     "output_type": "execute_result"
    }
   ],
   "source": [
    "# P(pos) = P(main | base) * P(D) + P(pos | D') * P(D') =\n",
    "prob_positive = P.Pmain(\n",
    "    [prob_positive_desease, prob_positive_no_desease],\n",
    "    [prob_desease, prob_no_desease],\n",
    ")\n",
    "prob_positive"
   ]
  },
  {
   "cell_type": "markdown",
   "metadata": {},
   "source": [
    "We are going to calculate the probability of not be infected when the\n",
    "result of pcr is positive."
   ]
  },
  {
   "cell_type": "code",
   "execution_count": 36,
   "metadata": {},
   "outputs": [
    {
     "data": {
      "text/plain": [
       "P(D' | pos) = 0.3759"
      ]
     },
     "execution_count": 36,
     "metadata": {},
     "output_type": "execute_result"
    }
   ],
   "source": [
    "# P(D' | pos) = P(pos | D') * P(D') / P(pos) =\n",
    "prob_no_desease_positive = prob_positive_no_desease.bayes(prob_positive, prob_no_desease)\n",
    "prob_no_desease_positive"
   ]
  },
  {
   "cell_type": "code",
   "execution_count": null,
   "metadata": {},
   "outputs": [],
   "source": []
  }
 ],
 "metadata": {
  "jupytext": {
   "cell_metadata_filter": "-all",
   "main_language": "python",
   "notebook_metadata_filter": "-all"
  },
  "kernelspec": {
   "display_name": "Python 3",
   "language": "python",
   "name": "python3"
  },
  "language_info": {
   "codemirror_mode": {
    "name": "ipython",
    "version": 3
   },
   "file_extension": ".py",
   "mimetype": "text/x-python",
   "name": "python",
   "nbconvert_exporter": "python",
   "pygments_lexer": "ipython3",
   "version": "3.8.5"
  }
 },
 "nbformat": 4,
 "nbformat_minor": 4
}
